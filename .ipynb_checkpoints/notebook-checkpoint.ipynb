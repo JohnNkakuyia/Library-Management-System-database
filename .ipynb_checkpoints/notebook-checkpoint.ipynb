{
 "cells": [
  {
   "cell_type": "markdown",
   "metadata": {},
   "source": [
    "# 📚 Library Management System (LMS)\n",
    "\n",
    "## 📝 Introduction\n",
    "This notebook demonstrates the design and implementation of a **Library Management System (LMS)** using **SQLite**, **Python**, and **Jupyter Widgets**.  \n",
    "The project simulates real-world library operations such as **book cataloging, member registration, borrowing, returning, and reservations**.  \n",
    "\n",
    "The system is designed to:\n",
    "- Manage **members, authors, publishers, books, and book copies**.  \n",
    "- Track **loans, reservations, and book availability**.  \n",
    "- Provide **interactive widgets** for adding members and searching for books.  \n",
    "- Offer **basic statistics** on library usage (e.g., number of members, books, available copies, and active loans).  \n",
    "\n",
    "By the end of this notebook, you will have a fully functioning **relational database schema** with core operations that model how a real library system works.  \n",
    "\n",
    "---\n"
   ]
  },
  {
   "cell_type": "code",
   "execution_count": 1,
   "metadata": {},
   "outputs": [],
   "source": [
    "# Importing rEquired Libraries \n",
    "\n",
    "import sqlite3\n",
    "import pandas as pd\n",
    "from datetime import datetime, timedelta\n",
    "import ipywidgets as widgets\n",
    "from IPython.display import display, Markdown"
   ]
  },
  {
   "cell_type": "code",
   "execution_count": 2,
   "metadata": {},
   "outputs": [],
   "source": [
    "# Create or connect to SQLite database\n",
    "def create_database():\n",
    "    conn = sqlite3.connect('library_management.sqlite')\n",
    "    cursor = conn.cursor()\n",
    "    \n",
    "    # Enable foreign keys\n",
    "    cursor.execute(\"PRAGMA foreign_keys = ON\")"
   ]
  },
  {
   "cell_type": "markdown",
   "metadata": {},
   "source": [
    "###  Create Tables"
   ]
  },
  {
   "cell_type": "code",
   "execution_count": 3,
   "metadata": {},
   "outputs": [],
   "source": [
    "# Create or connect to SQLite database\n",
    "def create_database():\n",
    "    conn = sqlite3.connect('library_management.sqlite')\n",
    "    cursor = conn.cursor()\n",
    "    \n",
    "    # Enable foreign keys\n",
    "    cursor.execute(\"PRAGMA foreign_keys = ON\")\n",
    "    \n",
    "    # Create Tables\n",
    "    tables_sql = [\n",
    "        # Members Table\n",
    "        \"\"\"\n",
    "        CREATE TABLE IF NOT EXISTS Members (\n",
    "            member_id INTEGER PRIMARY KEY AUTOINCREMENT,\n",
    "            first_name TEXT NOT NULL,\n",
    "            last_name TEXT NOT NULL,\n",
    "            email TEXT UNIQUE NOT NULL,\n",
    "            phone TEXT,\n",
    "            address TEXT,\n",
    "            membership_date TEXT NOT NULL,\n",
    "            membership_status TEXT DEFAULT 'Active' CHECK(membership_status IN ('Active', 'Suspended', 'Expired')),\n",
    "            created_at TEXT DEFAULT CURRENT_TIMESTAMP,\n",
    "            updated_at TEXT DEFAULT CURRENT_TIMESTAMP\n",
    "        )\n",
    "        \"\"\",\n",
    "        \n",
    "        # Authors Table\n",
    "        \"\"\"\n",
    "        CREATE TABLE IF NOT EXISTS Authors (\n",
    "            author_id INTEGER PRIMARY KEY AUTOINCREMENT,\n",
    "            first_name TEXT NOT NULL,\n",
    "            last_name TEXT NOT NULL,\n",
    "            birth_date TEXT,\n",
    "            death_date TEXT,\n",
    "            nationality TEXT,\n",
    "            biography TEXT,\n",
    "            created_at TEXT DEFAULT CURRENT_TIMESTAMP\n",
    "        )\n",
    "        \"\"\",\n",
    "        \n",
    "        # Publishers Table\n",
    "        \"\"\"\n",
    "        CREATE TABLE IF NOT EXISTS Publishers (\n",
    "            publisher_id INTEGER PRIMARY KEY AUTOINCREMENT,\n",
    "            name TEXT NOT NULL UNIQUE,\n",
    "            address TEXT,\n",
    "            phone TEXT,\n",
    "            email TEXT,\n",
    "            website TEXT,\n",
    "            created_at TEXT DEFAULT CURRENT_TIMESTAMP\n",
    "        )\n",
    "        \"\"\",\n",
    "        \n",
    "        # Books Table\n",
    "        \"\"\"\n",
    "        CREATE TABLE IF NOT EXISTS Books (\n",
    "            book_id INTEGER PRIMARY KEY AUTOINCREMENT,\n",
    "            isbn TEXT UNIQUE NOT NULL,\n",
    "            title TEXT NOT NULL,\n",
    "            publisher_id INTEGER NOT NULL,\n",
    "            publication_year TEXT,\n",
    "            edition INTEGER DEFAULT 1,\n",
    "            language TEXT DEFAULT 'English',\n",
    "            pages INTEGER,\n",
    "            description TEXT,\n",
    "            category TEXT,\n",
    "            price REAL,\n",
    "            created_at TEXT DEFAULT CURRENT_TIMESTAMP,\n",
    "            updated_at TEXT DEFAULT CURRENT_TIMESTAMP,\n",
    "            FOREIGN KEY (publisher_id) REFERENCES Publishers(publisher_id) ON DELETE CASCADE\n",
    "        )\n",
    "        \"\"\",\n",
    "        \n",
    "        # Book_Authors Table (Many-to-Many)\n",
    "        \"\"\"\n",
    "        CREATE TABLE IF NOT EXISTS Book_Authors (\n",
    "            book_id INTEGER NOT NULL,\n",
    "            author_id INTEGER NOT NULL,\n",
    "            PRIMARY KEY (book_id, author_id),\n",
    "            FOREIGN KEY (book_id) REFERENCES Books(book_id) ON DELETE CASCADE,\n",
    "            FOREIGN KEY (author_id) REFERENCES Authors(author_id) ON DELETE CASCADE\n",
    "        )\n",
    "        \"\"\",\n",
    "        \n",
    "        # Book_Copies Table\n",
    "        \"\"\"\n",
    "        CREATE TABLE IF NOT EXISTS Book_Copies (\n",
    "            copy_id INTEGER PRIMARY KEY AUTOINCREMENT,\n",
    "            book_id INTEGER NOT NULL,\n",
    "            copy_number INTEGER NOT NULL,\n",
    "            status TEXT DEFAULT 'Available' CHECK(status IN ('Available', 'Borrowed', 'Reserved', 'Maintenance', 'Lost')),\n",
    "            acquisition_date TEXT,\n",
    "            condition TEXT DEFAULT 'Good' CHECK(condition IN ('New', 'Good', 'Fair', 'Poor')),\n",
    "            location TEXT,\n",
    "            created_at TEXT DEFAULT CURRENT_TIMESTAMP,\n",
    "            UNIQUE(book_id, copy_number),\n",
    "            FOREIGN KEY (book_id) REFERENCES Books(book_id) ON DELETE CASCADE\n",
    "        )\n",
    "        \"\"\",\n",
    "        \n",
    "        # Loans Table\n",
    "        \"\"\"\n",
    "        CREATE TABLE IF NOT EXISTS Loans (\n",
    "            loan_id INTEGER PRIMARY KEY AUTOINCREMENT,\n",
    "            member_id INTEGER NOT NULL,\n",
    "            copy_id INTEGER NOT NULL,\n",
    "            loan_date TEXT NOT NULL,\n",
    "            due_date TEXT NOT NULL,\n",
    "            return_date TEXT,\n",
    "            status TEXT DEFAULT 'Active' CHECK(status IN ('Active', 'Returned', 'Overdue')),\n",
    "            fine_amount REAL DEFAULT 0.00,\n",
    "            created_at TEXT DEFAULT CURRENT_TIMESTAMP,\n",
    "            FOREIGN KEY (member_id) REFERENCES Members(member_id) ON DELETE CASCADE,\n",
    "            FOREIGN KEY (copy_id) REFERENCES Book_Copies(copy_id) ON DELETE CASCADE,\n",
    "            CHECK (due_date > loan_date),\n",
    "            CHECK (return_date IS NULL OR return_date >= loan_date)\n",
    "        )\n",
    "        \"\"\",\n",
    "        \n",
    "        # Reservations Table\n",
    "        \"\"\"\n",
    "        CREATE TABLE IF NOT EXISTS Reservations (\n",
    "            reservation_id INTEGER PRIMARY KEY AUTOINCREMENT,\n",
    "            member_id INTEGER NOT NULL,\n",
    "            book_id INTEGER NOT NULL,\n",
    "            reservation_date TEXT NOT NULL,\n",
    "            status TEXT DEFAULT 'Pending' CHECK(status IN ('Pending', 'Fulfilled', 'Cancelled')),\n",
    "            priority INTEGER DEFAULT 1,\n",
    "            created_at TEXT DEFAULT CURRENT_TIMESTAMP,\n",
    "            FOREIGN KEY (member_id) REFERENCES Members(member_id) ON DELETE CASCADE,\n",
    "            FOREIGN KEY (book_id) REFERENCES Books(book_id) ON DELETE CASCADE\n",
    "        )\n",
    "        \"\"\"\n",
    "    ]\n",
    "    \n",
    "    for sql in tables_sql:\n",
    "        cursor.execute(sql)\n",
    "    \n",
    "    conn.commit()\n",
    "    return conn"
   ]
  },
  {
   "cell_type": "code",
   "execution_count": 4,
   "metadata": {},
   "outputs": [],
   "source": [
    "# Initialize database\n",
    "conn = create_database()\n",
    "cursor = conn.cursor()\n"
   ]
  },
  {
   "cell_type": "markdown",
   "metadata": {},
   "source": [
    "### Inserting Sample Data"
   ]
  },
  {
   "cell_type": "code",
   "execution_count": 5,
   "metadata": {},
   "outputs": [],
   "source": [
    "def insert_sample_data_basic():\n",
    "    try:\n",
    "        # Clear all data first (order matters: child → parent)\n",
    "        cursor.execute(\"DELETE FROM Book_Authors\")\n",
    "        cursor.execute(\"DELETE FROM Book_Copies\")\n",
    "        cursor.execute(\"DELETE FROM Books\")\n",
    "        cursor.execute(\"DELETE FROM Authors\")\n",
    "        cursor.execute(\"DELETE FROM Publishers\")\n",
    "        cursor.execute(\"DELETE FROM Members\")\n",
    "        \n",
    "        # Reset autoincrement counters\n",
    "        cursor.execute(\"DELETE FROM sqlite_sequence WHERE name IN ('Publishers','Authors','Books','Book_Copies','Book_Authors','Members')\")\n",
    "\n",
    "        # Insert Publishers\n",
    "        cursor.execute(\"INSERT INTO Publishers (name, address, phone, email, website) VALUES (?, ?, ?, ?, ?)\", \n",
    "                      ('Penguin Random House', '123 Book Ave, New York, NY', '555-0101', 'info@penguin.com', 'www.penguin.com'))\n",
    "        penguin_id = cursor.lastrowid\n",
    "        \n",
    "        cursor.execute(\"INSERT INTO Publishers (name, address, phone, email, website) VALUES (?, ?, ?, ?, ?)\", \n",
    "                      ('HarperCollins', '456 Publisher St, London, UK', '555-0102', 'contact@harpercollins.com', 'www.harpercollins.com'))\n",
    "        harper_id = cursor.lastrowid\n",
    "        \n",
    "        # Insert Authors\n",
    "        cursor.execute(\"INSERT INTO Authors (first_name, last_name, birth_date, death_date, nationality, biography) VALUES (?, ?, ?, ?, ?, ?)\", \n",
    "                      ('George', 'Orwell', '1903-06-25', None, 'British', 'Author of 1984 and Animal Farm'))\n",
    "        orwell_id = cursor.lastrowid\n",
    "        \n",
    "        cursor.execute(\"INSERT INTO Authors (first_name, last_name, birth_date, death_date, nationality, biography) VALUES (?, ?, ?, ?, ?, ?)\", \n",
    "                      ('J.K.', 'Rowling', '1965-07-31', None, 'British', 'Author of Harry Potter series'))\n",
    "        rowling_id = cursor.lastrowid\n",
    "        \n",
    "        cursor.execute(\"INSERT INTO Authors (first_name, last_name, birth_date, death_date, nationality, biography) VALUES (?, ?, ?, ?, ?, ?)\", \n",
    "                      ('Stephen', 'King', '1947-09-21', None, 'American', 'Master of horror fiction'))\n",
    "        king_id = cursor.lastrowid\n",
    "        \n",
    "        # Insert Books (using real publisher IDs)\n",
    "        cursor.execute(\"INSERT INTO Books (isbn, title, publisher_id, publication_year, edition, language, pages, description, category, price) VALUES (?, ?, ?, ?, ?, ?, ?, ?, ?, ?)\", \n",
    "                      ('978-0451524935', '1984', penguin_id, '1949', 1, 'English', 328, 'Dystopian novel', 'Fiction', 12.99))\n",
    "        book1984_id = cursor.lastrowid\n",
    "        \n",
    "        cursor.execute(\"INSERT INTO Books (isbn, title, publisher_id, publication_year, edition, language, pages, description, category, price) VALUES (?, ?, ?, ?, ?, ?, ?, ?, ?, ?)\", \n",
    "                      ('978-0439064873', 'Harry Potter and the Chamber of Secrets', harper_id, '1998', 1, 'English', 341, 'Second book in Harry Potter series', 'Fantasy', 15.99))\n",
    "        harry_id = cursor.lastrowid\n",
    "        \n",
    "        cursor.execute(\"INSERT INTO Books (isbn, title, publisher_id, publication_year, edition, language, pages, description, category, price) VALUES (?, ?, ?, ?, ?, ?, ?, ?, ?, ?)\", \n",
    "                      ('978-1501142970', 'The Shining', penguin_id, '1977', 1, 'English', 447, 'Horror novel about a haunted hotel', 'Horror', 14.99))\n",
    "        shining_id = cursor.lastrowid\n",
    "        \n",
    "        # Insert Book_Authors (using fetched IDs)\n",
    "        cursor.execute(\"INSERT INTO Book_Authors (book_id, author_id) VALUES (?, ?)\", (book1984_id, orwell_id))\n",
    "        cursor.execute(\"INSERT INTO Book_Authors (book_id, author_id) VALUES (?, ?)\", (harry_id, rowling_id))\n",
    "        cursor.execute(\"INSERT INTO Book_Authors (book_id, author_id) VALUES (?, ?)\", (shining_id, king_id))\n",
    "        \n",
    "        # Insert Book_Copies\n",
    "        cursor.execute(\"INSERT INTO Book_Copies (book_id, copy_number, status, acquisition_date, condition, location) VALUES (?, ?, ?, ?, ?, ?)\", \n",
    "                      (book1984_id, 1, 'Available', '2023-01-15', 'Good', 'Shelf A1'))\n",
    "        cursor.execute(\"INSERT INTO Book_Copies (book_id, copy_number, status, acquisition_date, condition, location) VALUES (?, ?, ?, ?, ?, ?)\", \n",
    "                      (book1984_id, 2, 'Available', '2023-01-15', 'New', 'Shelf A1'))\n",
    "        cursor.execute(\"INSERT INTO Book_Copies (book_id, copy_number, status, acquisition_date, condition, location) VALUES (?, ?, ?, ?, ?, ?)\", \n",
    "                      (harry_id, 1, 'Available', '2023-02-20', 'Good', 'Shelf B2'))\n",
    "        cursor.execute(\"INSERT INTO Book_Copies (book_id, copy_number, status, acquisition_date, condition, location) VALUES (?, ?, ?, ?, ?, ?)\", \n",
    "                      (shining_id, 1, 'Available', '2023-03-10', 'Fair', 'Shelf C3'))\n",
    "        \n",
    "        # Insert Members\n",
    "        cursor.execute(\"INSERT INTO Members (first_name, last_name, email, phone, address, membership_date, membership_status) VALUES (?, ?, ?, ?, ?, ?, ?)\", \n",
    "                      ('John', 'Doe', 'john.doe@email.com', '555-1234', '123 Main St', '2023-01-01', 'Active'))\n",
    "        cursor.execute(\"INSERT INTO Members (first_name, last_name, email, phone, address, membership_date, membership_status) VALUES (?, ?, ?, ?, ?, ?, ?)\", \n",
    "                      ('Jane', 'Smith', 'jane.smith@email.com', '555-5678', '456 Oak Ave', '2023-02-15', 'Active'))\n",
    "        \n",
    "        conn.commit()\n",
    "        print(\"✅ Sample data inserted successfully!\")\n",
    "        \n",
    "    except Exception as e:\n",
    "        print(f\"❌ Error inserting sample data: {e}\")\n",
    "        conn.rollback()\n"
   ]
  },
  {
   "cell_type": "code",
   "execution_count": 6,
   "metadata": {},
   "outputs": [],
   "source": [
    "# Utility Functions\n",
    "def execute_query(query, params=None):\n",
    "    \"\"\"Execute SQL query and return results as DataFrame\"\"\"\n",
    "    if params:\n",
    "        df = pd.read_sql_query(query, conn, params=params)\n",
    "    else:\n",
    "        df = pd.read_sql_query(query, conn)\n",
    "    return df\n",
    "\n",
    "def display_table(table_name, limit=10):\n",
    "    \"\"\"Display a table with nice formatting\"\"\"\n",
    "    df = execute_query(f\"SELECT * FROM {table_name} LIMIT {limit}\")\n",
    "    display(Markdown(f\"### {table_name} Table\"))\n",
    "    display(df)"
   ]
  },
  {
   "cell_type": "code",
   "execution_count": 7,
   "metadata": {},
   "outputs": [],
   "source": [
    "# Interactive Widgets for Library Operations\n",
    "def add_member(first_name, last_name, email, phone, address):\n",
    "    \"\"\"Add a new member to the library\"\"\"\n",
    "    try:\n",
    "        cursor.execute(\"\"\"\n",
    "            INSERT INTO Members (first_name, last_name, email, phone, address, membership_date)\n",
    "            VALUES (?, ?, ?, ?, ?, date('now'))\n",
    "        \"\"\", (first_name, last_name, email, phone, address))\n",
    "        conn.commit()\n",
    "        print(\"✅ Member added successfully!\")\n",
    "    except sqlite3.IntegrityError:\n",
    "        print(\"❌ Error: Email already exists!\")\n",
    "\n",
    "def search_books(title=None, author=None, category=None):\n",
    "    \"\"\"Search for books by title, author, or category\"\"\"\n",
    "    query = \"\"\"\n",
    "        SELECT b.book_id, b.title, b.isbn, a.first_name || ' ' || a.last_name as author, \n",
    "               b.category, b.publication_year, bc.status\n",
    "        FROM Books b\n",
    "        JOIN Book_Authors ba ON b.book_id = ba.book_id\n",
    "        JOIN Authors a ON ba.author_id = a.author_id\n",
    "        JOIN Book_Copies bc ON b.book_id = bc.book_id\n",
    "        WHERE 1=1\n",
    "    \"\"\"\n",
    "    params = []\n",
    "    \n",
    "    if title:\n",
    "        query += \" AND b.title LIKE ?\"\n",
    "        params.append(f'%{title}%')\n",
    "    if author:\n",
    "        query += \" AND (a.first_name LIKE ? OR a.last_name LIKE ?)\"\n",
    "        params.extend([f'%{author}%', f'%{author}%'])\n",
    "    if category:\n",
    "        query += \" AND b.category = ?\"\n",
    "        params.append(category)\n",
    "    \n",
    "    query += \" GROUP BY b.book_id\"\n",
    "    \n",
    "    df = execute_query(query, params)\n",
    "    return df\n"
   ]
  },
  {
   "cell_type": "code",
   "execution_count": 8,
   "metadata": {},
   "outputs": [
    {
     "data": {
      "text/markdown": [
       "# 📚 Library Management System Database"
      ],
      "text/plain": [
       "<IPython.core.display.Markdown object>"
      ]
     },
     "metadata": {},
     "output_type": "display_data"
    },
    {
     "data": {
      "text/markdown": [
       "## Database Schema Overview"
      ],
      "text/plain": [
       "<IPython.core.display.Markdown object>"
      ]
     },
     "metadata": {},
     "output_type": "display_data"
    },
    {
     "data": {
      "text/markdown": [
       "### Available Tables:"
      ],
      "text/plain": [
       "<IPython.core.display.Markdown object>"
      ]
     },
     "metadata": {},
     "output_type": "display_data"
    },
    {
     "data": {
      "text/markdown": [
       "- **Members**"
      ],
      "text/plain": [
       "<IPython.core.display.Markdown object>"
      ]
     },
     "metadata": {},
     "output_type": "display_data"
    },
    {
     "data": {
      "text/markdown": [
       "- **sqlite_sequence**"
      ],
      "text/plain": [
       "<IPython.core.display.Markdown object>"
      ]
     },
     "metadata": {},
     "output_type": "display_data"
    },
    {
     "data": {
      "text/markdown": [
       "- **Authors**"
      ],
      "text/plain": [
       "<IPython.core.display.Markdown object>"
      ]
     },
     "metadata": {},
     "output_type": "display_data"
    },
    {
     "data": {
      "text/markdown": [
       "- **Publishers**"
      ],
      "text/plain": [
       "<IPython.core.display.Markdown object>"
      ]
     },
     "metadata": {},
     "output_type": "display_data"
    },
    {
     "data": {
      "text/markdown": [
       "- **Books**"
      ],
      "text/plain": [
       "<IPython.core.display.Markdown object>"
      ]
     },
     "metadata": {},
     "output_type": "display_data"
    },
    {
     "data": {
      "text/markdown": [
       "- **Book_Authors**"
      ],
      "text/plain": [
       "<IPython.core.display.Markdown object>"
      ]
     },
     "metadata": {},
     "output_type": "display_data"
    },
    {
     "data": {
      "text/markdown": [
       "- **Book_Copies**"
      ],
      "text/plain": [
       "<IPython.core.display.Markdown object>"
      ]
     },
     "metadata": {},
     "output_type": "display_data"
    },
    {
     "data": {
      "text/markdown": [
       "- **Loans**"
      ],
      "text/plain": [
       "<IPython.core.display.Markdown object>"
      ]
     },
     "metadata": {},
     "output_type": "display_data"
    },
    {
     "data": {
      "text/markdown": [
       "- **Reservations**"
      ],
      "text/plain": [
       "<IPython.core.display.Markdown object>"
      ]
     },
     "metadata": {},
     "output_type": "display_data"
    },
    {
     "data": {
      "text/markdown": [
       "- **Fines**"
      ],
      "text/plain": [
       "<IPython.core.display.Markdown object>"
      ]
     },
     "metadata": {},
     "output_type": "display_data"
    },
    {
     "data": {
      "text/markdown": [
       "### Members Table"
      ],
      "text/plain": [
       "<IPython.core.display.Markdown object>"
      ]
     },
     "metadata": {},
     "output_type": "display_data"
    },
    {
     "data": {
      "text/html": [
       "<div>\n",
       "<style scoped>\n",
       "    .dataframe tbody tr th:only-of-type {\n",
       "        vertical-align: middle;\n",
       "    }\n",
       "\n",
       "    .dataframe tbody tr th {\n",
       "        vertical-align: top;\n",
       "    }\n",
       "\n",
       "    .dataframe thead th {\n",
       "        text-align: right;\n",
       "    }\n",
       "</style>\n",
       "<table border=\"1\" class=\"dataframe\">\n",
       "  <thead>\n",
       "    <tr style=\"text-align: right;\">\n",
       "      <th></th>\n",
       "      <th>member_id</th>\n",
       "      <th>first_name</th>\n",
       "      <th>last_name</th>\n",
       "      <th>email</th>\n",
       "      <th>phone</th>\n",
       "      <th>address</th>\n",
       "      <th>membership_date</th>\n",
       "      <th>membership_status</th>\n",
       "      <th>created_at</th>\n",
       "      <th>updated_at</th>\n",
       "    </tr>\n",
       "  </thead>\n",
       "  <tbody>\n",
       "    <tr>\n",
       "      <th>0</th>\n",
       "      <td>1</td>\n",
       "      <td>John</td>\n",
       "      <td>Doe</td>\n",
       "      <td>john.doe@email.com</td>\n",
       "      <td>555-1234</td>\n",
       "      <td>123 Main St</td>\n",
       "      <td>2023-01-01</td>\n",
       "      <td>Active</td>\n",
       "      <td>2025-09-21 15:00:59</td>\n",
       "      <td>2025-09-21 15:00:59</td>\n",
       "    </tr>\n",
       "    <tr>\n",
       "      <th>1</th>\n",
       "      <td>2</td>\n",
       "      <td>Jane</td>\n",
       "      <td>Smith</td>\n",
       "      <td>jane.smith@email.com</td>\n",
       "      <td>555-5678</td>\n",
       "      <td>456 Oak Ave</td>\n",
       "      <td>2023-02-15</td>\n",
       "      <td>Active</td>\n",
       "      <td>2025-09-21 15:00:59</td>\n",
       "      <td>2025-09-21 15:00:59</td>\n",
       "    </tr>\n",
       "    <tr>\n",
       "      <th>2</th>\n",
       "      <td>3</td>\n",
       "      <td>John</td>\n",
       "      <td>Nkakuyia</td>\n",
       "      <td>johnnkakuyia@gmail.com</td>\n",
       "      <td>0710218206</td>\n",
       "      <td>80</td>\n",
       "      <td>2025-09-21</td>\n",
       "      <td>Active</td>\n",
       "      <td>2025-09-21 15:01:40</td>\n",
       "      <td>2025-09-21 15:01:40</td>\n",
       "    </tr>\n",
       "    <tr>\n",
       "      <th>3</th>\n",
       "      <td>4</td>\n",
       "      <td>backson</td>\n",
       "      <td>ntauwa</td>\n",
       "      <td>backson@gmail.com</td>\n",
       "      <td>1234546671</td>\n",
       "      <td>7989</td>\n",
       "      <td>2025-09-21</td>\n",
       "      <td>Active</td>\n",
       "      <td>2025-09-21 15:02:49</td>\n",
       "      <td>2025-09-21 15:02:49</td>\n",
       "    </tr>\n",
       "  </tbody>\n",
       "</table>\n",
       "</div>"
      ],
      "text/plain": [
       "   member_id first_name last_name                   email       phone  \\\n",
       "0          1       John       Doe      john.doe@email.com    555-1234   \n",
       "1          2       Jane     Smith    jane.smith@email.com    555-5678   \n",
       "2          3       John  Nkakuyia  johnnkakuyia@gmail.com  0710218206   \n",
       "3          4    backson    ntauwa       backson@gmail.com  1234546671   \n",
       "\n",
       "       address membership_date membership_status           created_at  \\\n",
       "0  123 Main St      2023-01-01            Active  2025-09-21 15:00:59   \n",
       "1  456 Oak Ave      2023-02-15            Active  2025-09-21 15:00:59   \n",
       "2           80      2025-09-21            Active  2025-09-21 15:01:40   \n",
       "3         7989      2025-09-21            Active  2025-09-21 15:02:49   \n",
       "\n",
       "            updated_at  \n",
       "0  2025-09-21 15:00:59  \n",
       "1  2025-09-21 15:00:59  \n",
       "2  2025-09-21 15:01:40  \n",
       "3  2025-09-21 15:02:49  "
      ]
     },
     "metadata": {},
     "output_type": "display_data"
    },
    {
     "data": {
      "text/markdown": [
       "### sqlite_sequence Table"
      ],
      "text/plain": [
       "<IPython.core.display.Markdown object>"
      ]
     },
     "metadata": {},
     "output_type": "display_data"
    },
    {
     "data": {
      "text/html": [
       "<div>\n",
       "<style scoped>\n",
       "    .dataframe tbody tr th:only-of-type {\n",
       "        vertical-align: middle;\n",
       "    }\n",
       "\n",
       "    .dataframe tbody tr th {\n",
       "        vertical-align: top;\n",
       "    }\n",
       "\n",
       "    .dataframe thead th {\n",
       "        text-align: right;\n",
       "    }\n",
       "</style>\n",
       "<table border=\"1\" class=\"dataframe\">\n",
       "  <thead>\n",
       "    <tr style=\"text-align: right;\">\n",
       "      <th></th>\n",
       "      <th>name</th>\n",
       "      <th>seq</th>\n",
       "    </tr>\n",
       "  </thead>\n",
       "  <tbody>\n",
       "    <tr>\n",
       "      <th>0</th>\n",
       "      <td>Book_Copies</td>\n",
       "      <td>8</td>\n",
       "    </tr>\n",
       "    <tr>\n",
       "      <th>1</th>\n",
       "      <td>Publishers</td>\n",
       "      <td>2</td>\n",
       "    </tr>\n",
       "    <tr>\n",
       "      <th>2</th>\n",
       "      <td>Authors</td>\n",
       "      <td>3</td>\n",
       "    </tr>\n",
       "    <tr>\n",
       "      <th>3</th>\n",
       "      <td>Books</td>\n",
       "      <td>3</td>\n",
       "    </tr>\n",
       "    <tr>\n",
       "      <th>4</th>\n",
       "      <td>Members</td>\n",
       "      <td>4</td>\n",
       "    </tr>\n",
       "  </tbody>\n",
       "</table>\n",
       "</div>"
      ],
      "text/plain": [
       "          name  seq\n",
       "0  Book_Copies    8\n",
       "1   Publishers    2\n",
       "2      Authors    3\n",
       "3        Books    3\n",
       "4      Members    4"
      ]
     },
     "metadata": {},
     "output_type": "display_data"
    },
    {
     "data": {
      "text/markdown": [
       "### Authors Table"
      ],
      "text/plain": [
       "<IPython.core.display.Markdown object>"
      ]
     },
     "metadata": {},
     "output_type": "display_data"
    },
    {
     "data": {
      "text/html": [
       "<div>\n",
       "<style scoped>\n",
       "    .dataframe tbody tr th:only-of-type {\n",
       "        vertical-align: middle;\n",
       "    }\n",
       "\n",
       "    .dataframe tbody tr th {\n",
       "        vertical-align: top;\n",
       "    }\n",
       "\n",
       "    .dataframe thead th {\n",
       "        text-align: right;\n",
       "    }\n",
       "</style>\n",
       "<table border=\"1\" class=\"dataframe\">\n",
       "  <thead>\n",
       "    <tr style=\"text-align: right;\">\n",
       "      <th></th>\n",
       "      <th>author_id</th>\n",
       "      <th>first_name</th>\n",
       "      <th>last_name</th>\n",
       "      <th>birth_date</th>\n",
       "      <th>death_date</th>\n",
       "      <th>nationality</th>\n",
       "      <th>biography</th>\n",
       "      <th>created_at</th>\n",
       "    </tr>\n",
       "  </thead>\n",
       "  <tbody>\n",
       "    <tr>\n",
       "      <th>0</th>\n",
       "      <td>1</td>\n",
       "      <td>George</td>\n",
       "      <td>Orwell</td>\n",
       "      <td>1903-06-25</td>\n",
       "      <td>None</td>\n",
       "      <td>British</td>\n",
       "      <td>Author of 1984 and Animal Farm</td>\n",
       "      <td>2025-09-21 15:00:59</td>\n",
       "    </tr>\n",
       "    <tr>\n",
       "      <th>1</th>\n",
       "      <td>2</td>\n",
       "      <td>J.K.</td>\n",
       "      <td>Rowling</td>\n",
       "      <td>1965-07-31</td>\n",
       "      <td>None</td>\n",
       "      <td>British</td>\n",
       "      <td>Author of Harry Potter series</td>\n",
       "      <td>2025-09-21 15:00:59</td>\n",
       "    </tr>\n",
       "    <tr>\n",
       "      <th>2</th>\n",
       "      <td>3</td>\n",
       "      <td>Stephen</td>\n",
       "      <td>King</td>\n",
       "      <td>1947-09-21</td>\n",
       "      <td>None</td>\n",
       "      <td>American</td>\n",
       "      <td>Master of horror fiction</td>\n",
       "      <td>2025-09-21 15:00:59</td>\n",
       "    </tr>\n",
       "  </tbody>\n",
       "</table>\n",
       "</div>"
      ],
      "text/plain": [
       "   author_id first_name last_name  birth_date death_date nationality  \\\n",
       "0          1     George    Orwell  1903-06-25       None     British   \n",
       "1          2       J.K.   Rowling  1965-07-31       None     British   \n",
       "2          3    Stephen      King  1947-09-21       None    American   \n",
       "\n",
       "                        biography           created_at  \n",
       "0  Author of 1984 and Animal Farm  2025-09-21 15:00:59  \n",
       "1   Author of Harry Potter series  2025-09-21 15:00:59  \n",
       "2        Master of horror fiction  2025-09-21 15:00:59  "
      ]
     },
     "metadata": {},
     "output_type": "display_data"
    },
    {
     "data": {
      "text/markdown": [
       "### Publishers Table"
      ],
      "text/plain": [
       "<IPython.core.display.Markdown object>"
      ]
     },
     "metadata": {},
     "output_type": "display_data"
    },
    {
     "data": {
      "text/html": [
       "<div>\n",
       "<style scoped>\n",
       "    .dataframe tbody tr th:only-of-type {\n",
       "        vertical-align: middle;\n",
       "    }\n",
       "\n",
       "    .dataframe tbody tr th {\n",
       "        vertical-align: top;\n",
       "    }\n",
       "\n",
       "    .dataframe thead th {\n",
       "        text-align: right;\n",
       "    }\n",
       "</style>\n",
       "<table border=\"1\" class=\"dataframe\">\n",
       "  <thead>\n",
       "    <tr style=\"text-align: right;\">\n",
       "      <th></th>\n",
       "      <th>publisher_id</th>\n",
       "      <th>name</th>\n",
       "      <th>address</th>\n",
       "      <th>phone</th>\n",
       "      <th>email</th>\n",
       "      <th>website</th>\n",
       "      <th>created_at</th>\n",
       "    </tr>\n",
       "  </thead>\n",
       "  <tbody>\n",
       "    <tr>\n",
       "      <th>0</th>\n",
       "      <td>1</td>\n",
       "      <td>Penguin Random House</td>\n",
       "      <td>123 Book Ave, New York, NY</td>\n",
       "      <td>555-0101</td>\n",
       "      <td>info@penguin.com</td>\n",
       "      <td>www.penguin.com</td>\n",
       "      <td>2025-09-21 15:00:59</td>\n",
       "    </tr>\n",
       "    <tr>\n",
       "      <th>1</th>\n",
       "      <td>2</td>\n",
       "      <td>HarperCollins</td>\n",
       "      <td>456 Publisher St, London, UK</td>\n",
       "      <td>555-0102</td>\n",
       "      <td>contact@harpercollins.com</td>\n",
       "      <td>www.harpercollins.com</td>\n",
       "      <td>2025-09-21 15:00:59</td>\n",
       "    </tr>\n",
       "  </tbody>\n",
       "</table>\n",
       "</div>"
      ],
      "text/plain": [
       "   publisher_id                  name                       address     phone  \\\n",
       "0             1  Penguin Random House    123 Book Ave, New York, NY  555-0101   \n",
       "1             2         HarperCollins  456 Publisher St, London, UK  555-0102   \n",
       "\n",
       "                       email                website           created_at  \n",
       "0           info@penguin.com        www.penguin.com  2025-09-21 15:00:59  \n",
       "1  contact@harpercollins.com  www.harpercollins.com  2025-09-21 15:00:59  "
      ]
     },
     "metadata": {},
     "output_type": "display_data"
    },
    {
     "data": {
      "text/markdown": [
       "### Books Table"
      ],
      "text/plain": [
       "<IPython.core.display.Markdown object>"
      ]
     },
     "metadata": {},
     "output_type": "display_data"
    },
    {
     "data": {
      "text/html": [
       "<div>\n",
       "<style scoped>\n",
       "    .dataframe tbody tr th:only-of-type {\n",
       "        vertical-align: middle;\n",
       "    }\n",
       "\n",
       "    .dataframe tbody tr th {\n",
       "        vertical-align: top;\n",
       "    }\n",
       "\n",
       "    .dataframe thead th {\n",
       "        text-align: right;\n",
       "    }\n",
       "</style>\n",
       "<table border=\"1\" class=\"dataframe\">\n",
       "  <thead>\n",
       "    <tr style=\"text-align: right;\">\n",
       "      <th></th>\n",
       "      <th>book_id</th>\n",
       "      <th>isbn</th>\n",
       "      <th>title</th>\n",
       "      <th>publisher_id</th>\n",
       "      <th>publication_year</th>\n",
       "      <th>edition</th>\n",
       "      <th>language</th>\n",
       "      <th>pages</th>\n",
       "      <th>description</th>\n",
       "      <th>category</th>\n",
       "      <th>price</th>\n",
       "      <th>created_at</th>\n",
       "      <th>updated_at</th>\n",
       "    </tr>\n",
       "  </thead>\n",
       "  <tbody>\n",
       "    <tr>\n",
       "      <th>0</th>\n",
       "      <td>1</td>\n",
       "      <td>978-0451524935</td>\n",
       "      <td>1984</td>\n",
       "      <td>1</td>\n",
       "      <td>1949</td>\n",
       "      <td>1</td>\n",
       "      <td>English</td>\n",
       "      <td>328</td>\n",
       "      <td>Dystopian social science fiction novel</td>\n",
       "      <td>Fiction</td>\n",
       "      <td>12.99</td>\n",
       "      <td>2025-09-21 15:00:59</td>\n",
       "      <td>2025-09-21 15:00:59</td>\n",
       "    </tr>\n",
       "    <tr>\n",
       "      <th>1</th>\n",
       "      <td>2</td>\n",
       "      <td>978-0439064873</td>\n",
       "      <td>Harry Potter and the Chamber of Secrets</td>\n",
       "      <td>2</td>\n",
       "      <td>1998</td>\n",
       "      <td>1</td>\n",
       "      <td>English</td>\n",
       "      <td>341</td>\n",
       "      <td>Second book in Harry Potter series</td>\n",
       "      <td>Fantasy</td>\n",
       "      <td>15.99</td>\n",
       "      <td>2025-09-21 15:00:59</td>\n",
       "      <td>2025-09-21 15:00:59</td>\n",
       "    </tr>\n",
       "    <tr>\n",
       "      <th>2</th>\n",
       "      <td>3</td>\n",
       "      <td>978-1501142970</td>\n",
       "      <td>The Shining</td>\n",
       "      <td>1</td>\n",
       "      <td>1977</td>\n",
       "      <td>1</td>\n",
       "      <td>English</td>\n",
       "      <td>447</td>\n",
       "      <td>Horror novel about a haunted hotel</td>\n",
       "      <td>Horror</td>\n",
       "      <td>14.99</td>\n",
       "      <td>2025-09-21 15:00:59</td>\n",
       "      <td>2025-09-21 15:00:59</td>\n",
       "    </tr>\n",
       "  </tbody>\n",
       "</table>\n",
       "</div>"
      ],
      "text/plain": [
       "   book_id            isbn                                    title  \\\n",
       "0        1  978-0451524935                                     1984   \n",
       "1        2  978-0439064873  Harry Potter and the Chamber of Secrets   \n",
       "2        3  978-1501142970                              The Shining   \n",
       "\n",
       "   publisher_id publication_year  edition language  pages  \\\n",
       "0             1             1949        1  English    328   \n",
       "1             2             1998        1  English    341   \n",
       "2             1             1977        1  English    447   \n",
       "\n",
       "                              description category  price  \\\n",
       "0  Dystopian social science fiction novel  Fiction  12.99   \n",
       "1      Second book in Harry Potter series  Fantasy  15.99   \n",
       "2      Horror novel about a haunted hotel   Horror  14.99   \n",
       "\n",
       "            created_at           updated_at  \n",
       "0  2025-09-21 15:00:59  2025-09-21 15:00:59  \n",
       "1  2025-09-21 15:00:59  2025-09-21 15:00:59  \n",
       "2  2025-09-21 15:00:59  2025-09-21 15:00:59  "
      ]
     },
     "metadata": {},
     "output_type": "display_data"
    },
    {
     "data": {
      "text/markdown": [
       "### Book_Authors Table"
      ],
      "text/plain": [
       "<IPython.core.display.Markdown object>"
      ]
     },
     "metadata": {},
     "output_type": "display_data"
    },
    {
     "data": {
      "text/html": [
       "<div>\n",
       "<style scoped>\n",
       "    .dataframe tbody tr th:only-of-type {\n",
       "        vertical-align: middle;\n",
       "    }\n",
       "\n",
       "    .dataframe tbody tr th {\n",
       "        vertical-align: top;\n",
       "    }\n",
       "\n",
       "    .dataframe thead th {\n",
       "        text-align: right;\n",
       "    }\n",
       "</style>\n",
       "<table border=\"1\" class=\"dataframe\">\n",
       "  <thead>\n",
       "    <tr style=\"text-align: right;\">\n",
       "      <th></th>\n",
       "      <th>book_id</th>\n",
       "      <th>author_id</th>\n",
       "    </tr>\n",
       "  </thead>\n",
       "  <tbody>\n",
       "    <tr>\n",
       "      <th>0</th>\n",
       "      <td>1</td>\n",
       "      <td>1</td>\n",
       "    </tr>\n",
       "    <tr>\n",
       "      <th>1</th>\n",
       "      <td>2</td>\n",
       "      <td>2</td>\n",
       "    </tr>\n",
       "    <tr>\n",
       "      <th>2</th>\n",
       "      <td>3</td>\n",
       "      <td>3</td>\n",
       "    </tr>\n",
       "  </tbody>\n",
       "</table>\n",
       "</div>"
      ],
      "text/plain": [
       "   book_id  author_id\n",
       "0        1          1\n",
       "1        2          2\n",
       "2        3          3"
      ]
     },
     "metadata": {},
     "output_type": "display_data"
    },
    {
     "data": {
      "text/markdown": [
       "### Book_Copies Table"
      ],
      "text/plain": [
       "<IPython.core.display.Markdown object>"
      ]
     },
     "metadata": {},
     "output_type": "display_data"
    },
    {
     "data": {
      "text/html": [
       "<div>\n",
       "<style scoped>\n",
       "    .dataframe tbody tr th:only-of-type {\n",
       "        vertical-align: middle;\n",
       "    }\n",
       "\n",
       "    .dataframe tbody tr th {\n",
       "        vertical-align: top;\n",
       "    }\n",
       "\n",
       "    .dataframe thead th {\n",
       "        text-align: right;\n",
       "    }\n",
       "</style>\n",
       "<table border=\"1\" class=\"dataframe\">\n",
       "  <thead>\n",
       "    <tr style=\"text-align: right;\">\n",
       "      <th></th>\n",
       "      <th>copy_id</th>\n",
       "      <th>book_id</th>\n",
       "      <th>copy_number</th>\n",
       "      <th>status</th>\n",
       "      <th>acquisition_date</th>\n",
       "      <th>condition</th>\n",
       "      <th>location</th>\n",
       "      <th>created_at</th>\n",
       "    </tr>\n",
       "  </thead>\n",
       "  <tbody>\n",
       "    <tr>\n",
       "      <th>0</th>\n",
       "      <td>5</td>\n",
       "      <td>1</td>\n",
       "      <td>1</td>\n",
       "      <td>Available</td>\n",
       "      <td>2023-01-15</td>\n",
       "      <td>Good</td>\n",
       "      <td>Shelf A1</td>\n",
       "      <td>2025-09-21 15:00:59</td>\n",
       "    </tr>\n",
       "    <tr>\n",
       "      <th>1</th>\n",
       "      <td>6</td>\n",
       "      <td>1</td>\n",
       "      <td>2</td>\n",
       "      <td>Available</td>\n",
       "      <td>2023-01-15</td>\n",
       "      <td>New</td>\n",
       "      <td>Shelf A1</td>\n",
       "      <td>2025-09-21 15:00:59</td>\n",
       "    </tr>\n",
       "    <tr>\n",
       "      <th>2</th>\n",
       "      <td>7</td>\n",
       "      <td>2</td>\n",
       "      <td>1</td>\n",
       "      <td>Available</td>\n",
       "      <td>2023-02-20</td>\n",
       "      <td>Good</td>\n",
       "      <td>Shelf B2</td>\n",
       "      <td>2025-09-21 15:00:59</td>\n",
       "    </tr>\n",
       "    <tr>\n",
       "      <th>3</th>\n",
       "      <td>8</td>\n",
       "      <td>3</td>\n",
       "      <td>1</td>\n",
       "      <td>Available</td>\n",
       "      <td>2023-03-10</td>\n",
       "      <td>Fair</td>\n",
       "      <td>Shelf C3</td>\n",
       "      <td>2025-09-21 15:00:59</td>\n",
       "    </tr>\n",
       "  </tbody>\n",
       "</table>\n",
       "</div>"
      ],
      "text/plain": [
       "   copy_id  book_id  copy_number     status acquisition_date condition  \\\n",
       "0        5        1            1  Available       2023-01-15      Good   \n",
       "1        6        1            2  Available       2023-01-15       New   \n",
       "2        7        2            1  Available       2023-02-20      Good   \n",
       "3        8        3            1  Available       2023-03-10      Fair   \n",
       "\n",
       "   location           created_at  \n",
       "0  Shelf A1  2025-09-21 15:00:59  \n",
       "1  Shelf A1  2025-09-21 15:00:59  \n",
       "2  Shelf B2  2025-09-21 15:00:59  \n",
       "3  Shelf C3  2025-09-21 15:00:59  "
      ]
     },
     "metadata": {},
     "output_type": "display_data"
    },
    {
     "data": {
      "text/markdown": [
       "### Loans Table"
      ],
      "text/plain": [
       "<IPython.core.display.Markdown object>"
      ]
     },
     "metadata": {},
     "output_type": "display_data"
    },
    {
     "data": {
      "text/html": [
       "<div>\n",
       "<style scoped>\n",
       "    .dataframe tbody tr th:only-of-type {\n",
       "        vertical-align: middle;\n",
       "    }\n",
       "\n",
       "    .dataframe tbody tr th {\n",
       "        vertical-align: top;\n",
       "    }\n",
       "\n",
       "    .dataframe thead th {\n",
       "        text-align: right;\n",
       "    }\n",
       "</style>\n",
       "<table border=\"1\" class=\"dataframe\">\n",
       "  <thead>\n",
       "    <tr style=\"text-align: right;\">\n",
       "      <th></th>\n",
       "      <th>loan_id</th>\n",
       "      <th>member_id</th>\n",
       "      <th>copy_id</th>\n",
       "      <th>loan_date</th>\n",
       "      <th>due_date</th>\n",
       "      <th>return_date</th>\n",
       "      <th>status</th>\n",
       "      <th>fine_amount</th>\n",
       "      <th>created_at</th>\n",
       "    </tr>\n",
       "  </thead>\n",
       "  <tbody>\n",
       "  </tbody>\n",
       "</table>\n",
       "</div>"
      ],
      "text/plain": [
       "Empty DataFrame\n",
       "Columns: [loan_id, member_id, copy_id, loan_date, due_date, return_date, status, fine_amount, created_at]\n",
       "Index: []"
      ]
     },
     "metadata": {},
     "output_type": "display_data"
    },
    {
     "data": {
      "text/markdown": [
       "### Reservations Table"
      ],
      "text/plain": [
       "<IPython.core.display.Markdown object>"
      ]
     },
     "metadata": {},
     "output_type": "display_data"
    },
    {
     "data": {
      "text/html": [
       "<div>\n",
       "<style scoped>\n",
       "    .dataframe tbody tr th:only-of-type {\n",
       "        vertical-align: middle;\n",
       "    }\n",
       "\n",
       "    .dataframe tbody tr th {\n",
       "        vertical-align: top;\n",
       "    }\n",
       "\n",
       "    .dataframe thead th {\n",
       "        text-align: right;\n",
       "    }\n",
       "</style>\n",
       "<table border=\"1\" class=\"dataframe\">\n",
       "  <thead>\n",
       "    <tr style=\"text-align: right;\">\n",
       "      <th></th>\n",
       "      <th>reservation_id</th>\n",
       "      <th>member_id</th>\n",
       "      <th>book_id</th>\n",
       "      <th>reservation_date</th>\n",
       "      <th>status</th>\n",
       "      <th>priority</th>\n",
       "      <th>created_at</th>\n",
       "    </tr>\n",
       "  </thead>\n",
       "  <tbody>\n",
       "  </tbody>\n",
       "</table>\n",
       "</div>"
      ],
      "text/plain": [
       "Empty DataFrame\n",
       "Columns: [reservation_id, member_id, book_id, reservation_date, status, priority, created_at]\n",
       "Index: []"
      ]
     },
     "metadata": {},
     "output_type": "display_data"
    },
    {
     "data": {
      "text/markdown": [
       "### Fines Table"
      ],
      "text/plain": [
       "<IPython.core.display.Markdown object>"
      ]
     },
     "metadata": {},
     "output_type": "display_data"
    },
    {
     "data": {
      "text/html": [
       "<div>\n",
       "<style scoped>\n",
       "    .dataframe tbody tr th:only-of-type {\n",
       "        vertical-align: middle;\n",
       "    }\n",
       "\n",
       "    .dataframe tbody tr th {\n",
       "        vertical-align: top;\n",
       "    }\n",
       "\n",
       "    .dataframe thead th {\n",
       "        text-align: right;\n",
       "    }\n",
       "</style>\n",
       "<table border=\"1\" class=\"dataframe\">\n",
       "  <thead>\n",
       "    <tr style=\"text-align: right;\">\n",
       "      <th></th>\n",
       "      <th>fine_id</th>\n",
       "      <th>loan_id</th>\n",
       "      <th>member_id</th>\n",
       "      <th>fine_amount</th>\n",
       "      <th>amount_paid</th>\n",
       "      <th>payment_date</th>\n",
       "    </tr>\n",
       "  </thead>\n",
       "  <tbody>\n",
       "  </tbody>\n",
       "</table>\n",
       "</div>"
      ],
      "text/plain": [
       "Empty DataFrame\n",
       "Columns: [fine_id, loan_id, member_id, fine_amount, amount_paid, payment_date]\n",
       "Index: []"
      ]
     },
     "metadata": {},
     "output_type": "display_data"
    }
   ],
   "source": [
    "# Display Database Schema\n",
    "display(Markdown(\"# 📚 Library Management System Database\"))\n",
    "display(Markdown(\"## Database Schema Overview\"))\n",
    "\n",
    "# Show all tables\n",
    "tables = execute_query(\"SELECT name FROM sqlite_master WHERE type='table'\")\n",
    "display(Markdown(\"### Available Tables:\"))\n",
    "for table in tables['name']:\n",
    "    display(Markdown(f\"- **{table}**\"))\n",
    "\n",
    "# Display sample data from each table\n",
    "for table in tables['name']:\n",
    "    display_table(table)\n"
   ]
  },
  {
   "cell_type": "code",
   "execution_count": 9,
   "metadata": {},
   "outputs": [
    {
     "data": {
      "text/markdown": [
       "## 🔍 Book Search Example"
      ],
      "text/plain": [
       "<IPython.core.display.Markdown object>"
      ]
     },
     "metadata": {},
     "output_type": "display_data"
    },
    {
     "data": {
      "text/html": [
       "<div>\n",
       "<style scoped>\n",
       "    .dataframe tbody tr th:only-of-type {\n",
       "        vertical-align: middle;\n",
       "    }\n",
       "\n",
       "    .dataframe tbody tr th {\n",
       "        vertical-align: top;\n",
       "    }\n",
       "\n",
       "    .dataframe thead th {\n",
       "        text-align: right;\n",
       "    }\n",
       "</style>\n",
       "<table border=\"1\" class=\"dataframe\">\n",
       "  <thead>\n",
       "    <tr style=\"text-align: right;\">\n",
       "      <th></th>\n",
       "      <th>book_id</th>\n",
       "      <th>title</th>\n",
       "      <th>isbn</th>\n",
       "      <th>author</th>\n",
       "      <th>category</th>\n",
       "      <th>publication_year</th>\n",
       "      <th>status</th>\n",
       "    </tr>\n",
       "  </thead>\n",
       "  <tbody>\n",
       "    <tr>\n",
       "      <th>0</th>\n",
       "      <td>2</td>\n",
       "      <td>Harry Potter and the Chamber of Secrets</td>\n",
       "      <td>978-0439064873</td>\n",
       "      <td>J.K. Rowling</td>\n",
       "      <td>Fantasy</td>\n",
       "      <td>1998</td>\n",
       "      <td>Available</td>\n",
       "    </tr>\n",
       "  </tbody>\n",
       "</table>\n",
       "</div>"
      ],
      "text/plain": [
       "   book_id                                    title            isbn  \\\n",
       "0        2  Harry Potter and the Chamber of Secrets  978-0439064873   \n",
       "\n",
       "         author category publication_year     status  \n",
       "0  J.K. Rowling  Fantasy             1998  Available  "
      ]
     },
     "metadata": {},
     "output_type": "display_data"
    }
   ],
   "source": [
    "# Example: Search Books\n",
    "display(Markdown(\"## 🔍 Book Search Example\"))\n",
    "search_results = search_books(title=\"Harry\")\n",
    "display(search_results)\n",
    "\n",
    "# Close connection when done\n",
    "def close_connection():\n",
    "    conn.close()\n",
    "    print(\"Database connection closed.\")\n"
   ]
  },
  {
   "cell_type": "code",
   "execution_count": 10,
   "metadata": {},
   "outputs": [
    {
     "data": {
      "text/markdown": [
       "## 👥 Add New Member (Interactive)"
      ],
      "text/plain": [
       "<IPython.core.display.Markdown object>"
      ]
     },
     "metadata": {},
     "output_type": "display_data"
    },
    {
     "data": {
      "application/vnd.jupyter.widget-view+json": {
       "model_id": "44bcbf5d0efe43acac542bcc130f2553",
       "version_major": 2,
       "version_minor": 0
      },
      "text/plain": [
       "VBox(children=(Text(value='', description='First Name:'), Text(value='', description='Last Name:'), Text(value…"
      ]
     },
     "metadata": {},
     "output_type": "display_data"
    }
   ],
   "source": [
    "# Interactive Widget Example\n",
    "display(Markdown(\"## 👥 Add New Member (Interactive)\"))\n",
    "first_name = widgets.Text(description=\"First Name:\")\n",
    "last_name = widgets.Text(description=\"Last Name:\")\n",
    "email = widgets.Text(description=\"Email:\")\n",
    "phone = widgets.Text(description=\"Phone:\")\n",
    "address = widgets.Text(description=\"Address:\")\n",
    "add_button = widgets.Button(description=\"Add Member\")\n",
    "\n",
    "def on_add_button_clicked(b):\n",
    "    add_member(first_name.value, last_name.value, email.value, phone.value, address.value)\n",
    "    display_table(\"Members\")\n",
    "\n",
    "add_button.on_click(on_add_button_clicked)\n",
    "\n",
    "display(widgets.VBox([first_name, last_name, email, phone, address, add_button]))\n"
   ]
  },
  {
   "cell_type": "code",
   "execution_count": 11,
   "metadata": {},
   "outputs": [
    {
     "data": {
      "text/markdown": [
       "## 📊 Library Statistics"
      ],
      "text/plain": [
       "<IPython.core.display.Markdown object>"
      ]
     },
     "metadata": {},
     "output_type": "display_data"
    },
    {
     "data": {
      "text/html": [
       "<div>\n",
       "<style scoped>\n",
       "    .dataframe tbody tr th:only-of-type {\n",
       "        vertical-align: middle;\n",
       "    }\n",
       "\n",
       "    .dataframe tbody tr th {\n",
       "        vertical-align: top;\n",
       "    }\n",
       "\n",
       "    .dataframe thead th {\n",
       "        text-align: right;\n",
       "    }\n",
       "</style>\n",
       "<table border=\"1\" class=\"dataframe\">\n",
       "  <thead>\n",
       "    <tr style=\"text-align: right;\">\n",
       "      <th></th>\n",
       "      <th>total_members</th>\n",
       "      <th>total_books</th>\n",
       "      <th>available_copies</th>\n",
       "      <th>active_loans</th>\n",
       "    </tr>\n",
       "  </thead>\n",
       "  <tbody>\n",
       "    <tr>\n",
       "      <th>0</th>\n",
       "      <td>4</td>\n",
       "      <td>3</td>\n",
       "      <td>4</td>\n",
       "      <td>0</td>\n",
       "    </tr>\n",
       "  </tbody>\n",
       "</table>\n",
       "</div>"
      ],
      "text/plain": [
       "   total_members  total_books  available_copies  active_loans\n",
       "0              4            3                 4             0"
      ]
     },
     "metadata": {},
     "output_type": "display_data"
    }
   ],
   "source": [
    "# Statistics Dashboard\n",
    "display(Markdown(\"## 📊 Library Statistics\"))\n",
    "stats_query = \"\"\"\n",
    "    SELECT \n",
    "        (SELECT COUNT(*) FROM Members) as total_members,\n",
    "        (SELECT COUNT(*) FROM Books) as total_books,\n",
    "        (SELECT COUNT(*) FROM Book_Copies WHERE status = 'Available') as available_copies,\n",
    "        (SELECT COUNT(*) FROM Loans WHERE status = 'Active') as active_loans\n",
    "\"\"\"\n",
    "stats = execute_query(stats_query)\n",
    "display(stats)\n"
   ]
  },
  {
   "cell_type": "code",
   "execution_count": 12,
   "metadata": {},
   "outputs": [
    {
     "data": {
      "text/plain": [
       "<function __main__.close_connection()>"
      ]
     },
     "execution_count": 12,
     "metadata": {},
     "output_type": "execute_result"
    }
   ],
   "source": [
    "# Don't forget to close connection when notebook is closed\n",
    "import atexit\n",
    "atexit.register(close_connection)"
   ]
  },
  {
   "cell_type": "markdown",
   "metadata": {},
   "source": [
    "### Adding Fines table , borrow and return functions"
   ]
  },
  {
   "cell_type": "code",
   "execution_count": 13,
   "metadata": {},
   "outputs": [],
   "source": [
    "\n",
    "# Connect to database\n",
    "conn = sqlite3.connect(\"library_management.sqlite\")\n",
    "cursor = conn.cursor()\n",
    "\n",
    "# --- Create Fines table ---\n",
    "cursor.execute(\"\"\"\n",
    "CREATE TABLE IF NOT EXISTS Fines (\n",
    "    fine_id INTEGER PRIMARY KEY AUTOINCREMENT,\n",
    "    loan_id INTEGER,\n",
    "    member_id INTEGER,\n",
    "    fine_amount REAL,\n",
    "    amount_paid REAL,\n",
    "    payment_date TEXT,\n",
    "    FOREIGN KEY (loan_id) REFERENCES Loans(loan_id),\n",
    "    FOREIGN KEY (member_id) REFERENCES Members(member_id)\n",
    ")\n",
    "\"\"\")\n",
    "conn.commit()\n",
    "\n",
    "# --- Borrow Book ---\n",
    "def borrow_book(member_id, copy_id, loan_days=14):\n",
    "    \"\"\"Borrow a book if available\"\"\"\n",
    "    loan_date = datetime.now().strftime('%Y-%m-%d')\n",
    "    due_date = (datetime.now() + timedelta(days=loan_days)).strftime('%Y-%m-%d')\n",
    "    \n",
    "    try:\n",
    "        cursor.execute(\"SELECT status FROM Book_Copies WHERE copy_id = ?\", (copy_id,))\n",
    "        result = cursor.fetchone()\n",
    "        if not result:\n",
    "            return {\"status\": False, \"message\": \"Copy ID not found\"}\n",
    "        \n",
    "        if result[0] != 'Available':\n",
    "            return {\"status\": False, \"message\": \"Book is not available\"}\n",
    "        \n",
    "        cursor.execute(\"\"\"\n",
    "            INSERT INTO Loans (member_id, copy_id, loan_date, due_date, status)\n",
    "            VALUES (?, ?, ?, ?, 'Borrowed')\n",
    "        \"\"\", (member_id, copy_id, loan_date, due_date))\n",
    "        \n",
    "        cursor.execute(\"UPDATE Book_Copies SET status = 'Borrowed' WHERE copy_id = ?\", (copy_id,))\n",
    "        conn.commit()\n",
    "        return {\"status\": True, \"message\": \"Book borrowed successfully\"}\n",
    "    \n",
    "    except Exception as e:\n",
    "        conn.rollback()\n",
    "        return {\"status\": False, \"message\": str(e)}\n",
    "\n",
    "# --- Return Book ---\n",
    "def return_book(loan_id):\n",
    "    \"\"\"Return a borrowed book and calculate fines\"\"\"\n",
    "    return_date = datetime.now().strftime('%Y-%m-%d')\n",
    "    \n",
    "    try:\n",
    "        cursor.execute(\"SELECT copy_id, due_date FROM Loans WHERE loan_id = ?\", (loan_id,))\n",
    "        result = cursor.fetchone()\n",
    "        if not result:\n",
    "            return {\"status\": False, \"message\": \"Loan ID not found\"}\n",
    "        \n",
    "        copy_id, due_date = result\n",
    "        overdue_days = (datetime.now() - datetime.strptime(due_date, '%Y-%m-%d')).days\n",
    "        fine = max(0, overdue_days * 10)  # Example: 10 per day fine\n",
    "        \n",
    "        cursor.execute(\"\"\"\n",
    "            UPDATE Loans \n",
    "            SET return_date = ?, status = 'Returned' \n",
    "            WHERE loan_id = ?\n",
    "        \"\"\", (return_date, loan_id))\n",
    "        \n",
    "        cursor.execute(\"UPDATE Book_Copies SET status = 'Available' WHERE copy_id = ?\", (copy_id,))\n",
    "        conn.commit()\n",
    "        \n",
    "        return {\n",
    "            \"status\": True,\n",
    "            \"message\": \"Book returned successfully\",\n",
    "            \"overdue_days\": overdue_days if overdue_days > 0 else 0,\n",
    "            \"fine\": fine\n",
    "        }\n",
    "    \n",
    "    except Exception as e:\n",
    "        conn.rollback()\n",
    "        return {\"status\": False, \"message\": str(e)}\n",
    "\n",
    "# --- Pay Fine ---\n",
    "def pay_fine(loan_id, amount_paid):\n",
    "    \"\"\"Pay fine for a specific loan\"\"\"\n",
    "    try:\n",
    "        cursor.execute(\"SELECT member_id, due_date, return_date FROM Loans WHERE loan_id = ?\", (loan_id,))\n",
    "        result = cursor.fetchone()\n",
    "        if not result:\n",
    "            return {\"status\": False, \"message\": \"Loan ID not found\"}\n",
    "        \n",
    "        member_id, due_date, return_date = result\n",
    "        \n",
    "        if not return_date:\n",
    "            return {\"status\": False, \"message\": \"Book not yet returned, no fine to pay\"}\n",
    "        \n",
    "        overdue_days = (datetime.strptime(return_date, '%Y-%m-%d') - datetime.strptime(due_date, '%Y-%m-%d')).days\n",
    "        fine_due = max(0, overdue_days * 10)\n",
    "        \n",
    "        if fine_due == 0:\n",
    "            return {\"status\": True, \"message\": \"No fine to pay\"}\n",
    "        \n",
    "        if amount_paid < fine_due:\n",
    "            return {\"status\": False, \"message\": f\"Insufficient payment. Fine due: {fine_due}\"}\n",
    "        \n",
    "        cursor.execute(\"\"\"\n",
    "            INSERT INTO Fines (loan_id, member_id, fine_amount, amount_paid, payment_date)\n",
    "            VALUES (?, ?, ?, ?, ?)\n",
    "        \"\"\", (loan_id, member_id, fine_due, amount_paid, datetime.now().strftime('%Y-%m-%d')))\n",
    "        \n",
    "        conn.commit()\n",
    "        return {\"status\": True, \"message\": \"Fine paid successfully\", \"fine_due\": fine_due, \"amount_paid\": amount_paid}\n",
    "    \n",
    "    except Exception as e:\n",
    "        conn.rollback()\n",
    "        return {\"status\": False, \"message\": str(e)}\n",
    "\n",
    "# --- Example Usage ---\n",
    "# borrow_book(1, 1)         # Borrow a book\n",
    "# return_info = return_book(1)   # Return it\n",
    "# print(return_info)\n",
    "# if return_info.get(\"fine\", 0) > 0:\n",
    "#     pay_info = pay_fine(1, return_info[\"fine\"])\n",
    "#     print(pay_info)\n"
   ]
  },
  {
   "cell_type": "markdown",
   "metadata": {},
   "source": [
    "### View Member fines"
   ]
  },
  {
   "cell_type": "code",
   "execution_count": 14,
   "metadata": {},
   "outputs": [],
   "source": [
    "def view_unpaid_fines(member_id):\n",
    "    \"\"\"View all unpaid fines for a specific member\"\"\"\n",
    "    try:\n",
    "        cursor.execute(\"\"\"\n",
    "        SELECT L.loan_id, L.due_date, L.return_date,\n",
    "               (julianday(L.return_date) - julianday(L.due_date)) * 10 AS fine_due,\n",
    "               IFNULL(F.amount_paid, 0) as paid\n",
    "        FROM Loans L\n",
    "        LEFT JOIN Fines F ON L.loan_id = F.loan_id\n",
    "        WHERE L.member_id = ?\n",
    "        \"\"\", (member_id,))\n",
    "        \n",
    "        rows = cursor.fetchall()\n",
    "        fines_list = []\n",
    "        \n",
    "        for row in rows:\n",
    "            loan_id, due_date, return_date, fine_due, paid = row\n",
    "            fine_due = max(0, int(fine_due) if fine_due else 0)  # ensure non-negative\n",
    "            balance = fine_due - paid\n",
    "            if balance > 0:\n",
    "                fines_list.append({\n",
    "                    \"loan_id\": loan_id,\n",
    "                    \"due_date\": due_date,\n",
    "                    \"return_date\": return_date,\n",
    "                    \"fine_due\": fine_due,\n",
    "                    \"paid\": paid,\n",
    "                    \"balance\": balance\n",
    "                })\n",
    "        \n",
    "        if not fines_list:\n",
    "            return {\"status\": True, \"message\": \"No unpaid fines\", \"fines\": []}\n",
    "        return {\"status\": True, \"message\": \"Unpaid fines found\", \"fines\": fines_list}\n",
    "    \n",
    "    except Exception as e:\n",
    "        return {\"status\": False, \"message\": str(e)}\n"
   ]
  },
  {
   "cell_type": "markdown",
   "metadata": {},
   "source": [
    "### Example Usage "
   ]
  },
  {
   "cell_type": "code",
   "execution_count": 15,
   "metadata": {},
   "outputs": [
    {
     "name": "stdout",
     "output_type": "stream",
     "text": [
      "{'status': False, 'message': 'Loan ID not found'}\n",
      "{'status': True, 'message': 'No unpaid fines', 'fines': []}\n"
     ]
    }
   ],
   "source": [
    "# Step 1: Borrow a book (simulate)\n",
    "borrow_book(1, 1)\n",
    "\n",
    "# Step 2: Force the loan to be overdue for testing\n",
    "cursor.execute(\"UPDATE Loans SET due_date = '2025-09-01' WHERE loan_id = 1\")\n",
    "conn.commit()\n",
    "\n",
    "# Step 3: Return the book (this will create a fine)\n",
    "return_info = return_book(1)\n",
    "print(return_info)\n",
    "# Example output: {'status': True, 'message': 'Book returned successfully', 'overdue_days': 25, 'fine': 250}\n",
    "\n",
    "# Step 4: View unpaid fines for Member 1\n",
    "unpaid = view_unpaid_fines(1)\n",
    "print(unpaid)\n",
    "# Example output:\n",
    "# {'status': True, 'message': 'Unpaid fines found',\n",
    "#  'fines': [{'loan_id': 1, 'due_date': '2025-09-01', 'return_date': '2025-09-26',\n",
    "#             'fine_due': 250, 'paid': 0, 'balance': 250}]}\n"
   ]
  }
 ],
 "metadata": {
  "kernelspec": {
   "display_name": "Python 3",
   "language": "python",
   "name": "python3"
  },
  "language_info": {
   "codemirror_mode": {
    "name": "ipython",
    "version": 3
   },
   "file_extension": ".py",
   "mimetype": "text/x-python",
   "name": "python",
   "nbconvert_exporter": "python",
   "pygments_lexer": "ipython3",
   "version": "3.8.5"
  }
 },
 "nbformat": 4,
 "nbformat_minor": 4
}
